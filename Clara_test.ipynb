{
 "cells": [
  {
   "cell_type": "code",
   "execution_count": 1,
   "metadata": {},
   "outputs": [],
   "source": [
    "import CLARA as c\n",
    "import pandas as pd\n",
    "import numpy as np"
   ]
  },
  {
   "cell_type": "code",
   "execution_count": 2,
   "metadata": {
    "pycharm": {
     "name": "#%%\n"
    }
   },
   "outputs": [],
   "source": [
    "df = pd.concat(pd.read_excel('repetitors_1.xlsx', sheet_name=None), ignore_index=True)\n",
    "df = df.drop(['Column1', 'author', 'date', 'id', 'reply', 'text', 'tutorlink', 'tutorname'], axis=1)\n",
    "marks = {\n",
    "    'лучше не бывает!' : 10,\n",
    "    'отлично' : 9,\n",
    "    'почти отлично' : 8,\n",
    "    'вполне хорошо' : 7,\n",
    "    'хорошо' : 6,\n",
    "    'почти хорошо' : 5,\n",
    "    'более-менее' : 4,\n",
    "    'так себе...' : 3,\n",
    "    'плохо' : 2,\n",
    "    'ужасно' : 1\n",
    "}\n",
    "subjects = {}\n",
    "val = 1\n",
    "for subject in df['discipline'].unique():\n",
    "    subjects[subject] = val\n",
    "    val += 1\n",
    "df = df.replace({\"mark\": marks}).dropna()\n",
    "df = df.replace({\"discipline\": subjects})"
   ]
  },
  {
   "cell_type": "code",
   "execution_count": null,
   "metadata": {
    "pycharm": {
     "name": "#%%\n"
    }
   },
   "outputs": [],
   "source": [
    "best_choices = []\n",
    "results = {}\n",
    "arr = df.to_numpy()\n",
    "best_choices, results = c.clara(5, arr, 3, c.manhattan, 100000)\n"
   ]
  },
  {
   "cell_type": "code",
   "execution_count": null,
   "metadata": {},
   "outputs": [],
   "source": [
    "def plot_parser(results, size) :\n",
    "    label = np.zeros(size)\n",
    "    idx = 1\n",
    "    for key in results :\n",
    "        for i in range(len(results[key])) :\n",
    "            label[results[key][i]] = key\n",
    "        idx += 1\n",
    "    return label"
   ]
  },
  {
   "cell_type": "code",
   "execution_count": null,
   "metadata": {},
   "outputs": [],
   "source": [
    "from matplotlib import pyplot as plt\n",
    "label = plot_parser(results, len(df))\n",
    "X = df.values\n",
    "plt.scatter(X[:,0], X[:,1], c=label, cmap='rainbow', alpha=0.7, edgecolors='b')\n",
    "plt.show()\n",
    "best_choices"
   ]
  },
  {
   "cell_type": "code",
   "execution_count": null,
   "metadata": {},
   "outputs": [],
   "source": [
    "#file_res = \"results.csv\"\n",
    "#df[\"label\"] = label\n",
    "#df.to_csv(file_res)"
   ]
  }
 ],
 "metadata": {
  "kernelspec": {
   "display_name": "Python 3",
   "language": "python",
   "name": "python3"
  },
  "language_info": {
   "codemirror_mode": {
    "name": "ipython",
    "version": 3
   },
   "file_extension": ".py",
   "mimetype": "text/x-python",
   "name": "python",
   "nbconvert_exporter": "python",
   "pygments_lexer": "ipython3",
   "version": "3.7.3"
  }
 },
 "nbformat": 4,
 "nbformat_minor": 4
}