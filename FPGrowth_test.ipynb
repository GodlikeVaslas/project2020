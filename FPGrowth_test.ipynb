{
 "cells": [
  {
   "cell_type": "code",
   "execution_count": 1,
   "metadata": {},
   "outputs": [],
   "source": [
    "import pandas as pd\n",
    "import xlrd\n",
    "import FPGrowth as FP\n",
    "\n",
    "file = 'repetitors_1.xlsx'\n",
    "df = pd.concat(pd.read_excel(file, sheet_name=None), ignore_index=True)\n",
    "df = df.drop(['Column1', 'author', 'date', 'id', 'reply', 'tutorlink'], axis=1)\n",
    "df = df.dropna()"
   ]
  },
  {
   "cell_type": "code",
   "execution_count": 2,
   "metadata": {},
   "outputs": [
    {
     "data": {
      "text/plain": [
       "[['преподаватель'],\n",
       " ['ужасно', 'преподаватель'],\n",
       " ['лучше не бывает!'],\n",
       " ['заниматься'],\n",
       " ['огэ'],\n",
       " ['ужасно', 'огэ'],\n",
       " ['отлично'],\n",
       " ['репетитор'],\n",
       " ['математика'],\n",
       " ['занятия'],\n",
       " ['преподаватель', 'занятия'],\n",
       " ['ужасно', 'занятия'],\n",
       " ['занятий'],\n",
       " ['ужасно']]"
      ]
     },
     "execution_count": 2,
     "metadata": {},
     "output_type": "execute_result"
    }
   ],
   "source": [
    "import re\n",
    "\n",
    "data = []\n",
    "ignore = [\n",
    "    \n",
    "          'и', \"по\", \"на\", \"в\", \"с\", \"что\", '', 'к', \n",
    "          \"мы\", \"у\", \"но\", \"как\", \"-\", \"а\", \"очень\", \n",
    "          \"не\", \"все\", \"это\", \"за\", \"я\", \"она\", \"он\",\n",
    "          \"было\", \"нам\", \"нас\", \"бы\", \"был\", \"были\", \"ней\"  \n",
    "        \n",
    "         ]\n",
    "for index, row in df.iterrows():\n",
    "    cur = [row.discipline, row.mark, row.tutorname]\n",
    "    for word in re.split('[ .,!?]', row.text):\n",
    "        word_to_add = word.strip(' .,!?').lower()\n",
    "        if word_to_add not in ignore:\n",
    "            cur.append(word_to_add)\n",
    "    data.append(cur)\n",
    "FP.fpgrowth(data, 50000)"
   ]
  },
  {
   "cell_type": "code",
   "execution_count": null,
   "metadata": {},
   "outputs": [],
   "source": []
  }
 ],
 "metadata": {
  "kernelspec": {
   "display_name": "Python 3",
   "language": "python",
   "name": "python3"
  },
  "language_info": {
   "codemirror_mode": {
    "name": "ipython",
    "version": 3
   },
   "file_extension": ".py",
   "mimetype": "text/x-python",
   "name": "python",
   "nbconvert_exporter": "python",
   "pygments_lexer": "ipython3",
   "version": "3.7.3"
  }
 },
 "nbformat": 4,
 "nbformat_minor": 4
}