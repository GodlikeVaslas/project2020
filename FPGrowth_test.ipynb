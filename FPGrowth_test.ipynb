{
 "cells": [
  {
   "cell_type": "code",
   "execution_count": 1,
   "metadata": {},
   "outputs": [],
   "source": [
    "import pandas as pd\n",
    "import xlrd\n",
    "import FPGrowth as FP\n",
    "\n",
    "file = 'repetitors_1.xlsx'\n",
    "df = pd.concat(pd.read_excel(file, sheet_name=None), ignore_index=True)\n",
    "df = df.drop(['Column1', 'author', 'date', 'id', 'reply', 'tutorlink'], axis=1)\n",
    "df = df.dropna()"
   ]
  },
  {
   "cell_type": "code",
   "execution_count": 2,
   "metadata": {},
   "outputs": [
    {
     "ename": "TypeError",
     "evalue": "unsupported operand type(s) for +: 'int' and 'str'",
     "output_type": "error",
     "traceback": [
      "\u001B[0;31m---------------------------------------------------------------------------\u001B[0m",
      "\u001B[0;31mTypeError\u001B[0m                                 Traceback (most recent call last)",
      "\u001B[0;32m<ipython-input-2-587d266e1c65>\u001B[0m in \u001B[0;36m<module>\u001B[0;34m\u001B[0m\n\u001B[1;32m     17\u001B[0m             \u001B[0mcur\u001B[0m\u001B[0;34m.\u001B[0m\u001B[0mappend\u001B[0m\u001B[0;34m(\u001B[0m\u001B[0mword_to_add\u001B[0m\u001B[0;34m)\u001B[0m\u001B[0;34m\u001B[0m\u001B[0;34m\u001B[0m\u001B[0m\n\u001B[1;32m     18\u001B[0m     \u001B[0mdata\u001B[0m\u001B[0;34m.\u001B[0m\u001B[0mappend\u001B[0m\u001B[0;34m(\u001B[0m\u001B[0mcur\u001B[0m\u001B[0;34m)\u001B[0m\u001B[0;34m\u001B[0m\u001B[0;34m\u001B[0m\u001B[0m\n\u001B[0;32m---> 19\u001B[0;31m \u001B[0mFP\u001B[0m\u001B[0;34m.\u001B[0m\u001B[0mfpgrowth\u001B[0m\u001B[0;34m(\u001B[0m\u001B[0mdata\u001B[0m\u001B[0;34m,\u001B[0m \u001B[0;36m3\u001B[0m\u001B[0;34m)\u001B[0m\u001B[0;34m\u001B[0m\u001B[0;34m\u001B[0m\u001B[0m\n\u001B[0m",
      "\u001B[0;32m~/project2020/FPGrowth.py\u001B[0m in \u001B[0;36mfpgrowth\u001B[0;34m(transactions, minimum_support)\u001B[0m\n\u001B[1;32m    152\u001B[0m                     \u001B[0;32myield\u001B[0m \u001B[0ms\u001B[0m\u001B[0;34m\u001B[0m\u001B[0;34m\u001B[0m\u001B[0m\n\u001B[1;32m    153\u001B[0m \u001B[0;34m\u001B[0m\u001B[0m\n\u001B[0;32m--> 154\u001B[0;31m     \u001B[0;32mfor\u001B[0m \u001B[0mitemset\u001B[0m \u001B[0;32min\u001B[0m \u001B[0mfind_with_suffix\u001B[0m\u001B[0;34m(\u001B[0m\u001B[0mmaster\u001B[0m\u001B[0;34m,\u001B[0m \u001B[0;34m[\u001B[0m\u001B[0;34m]\u001B[0m\u001B[0;34m)\u001B[0m\u001B[0;34m:\u001B[0m\u001B[0;34m\u001B[0m\u001B[0;34m\u001B[0m\u001B[0m\n\u001B[0m\u001B[1;32m    155\u001B[0m         \u001B[0mpopular_itemset\u001B[0m\u001B[0;34m.\u001B[0m\u001B[0mappend\u001B[0m\u001B[0;34m(\u001B[0m\u001B[0mitemset\u001B[0m\u001B[0;34m)\u001B[0m\u001B[0;34m\u001B[0m\u001B[0;34m\u001B[0m\u001B[0m\n\u001B[1;32m    156\u001B[0m \u001B[0;34m\u001B[0m\u001B[0m\n",
      "\u001B[0;32m~/project2020/FPGrowth.py\u001B[0m in \u001B[0;36mfind_with_suffix\u001B[0;34m(tree, suffix)\u001B[0m\n\u001B[1;32m    144\u001B[0m     \u001B[0;32mdef\u001B[0m \u001B[0mfind_with_suffix\u001B[0m\u001B[0;34m(\u001B[0m\u001B[0mtree\u001B[0m\u001B[0;34m,\u001B[0m \u001B[0msuffix\u001B[0m\u001B[0;34m)\u001B[0m\u001B[0;34m:\u001B[0m\u001B[0;34m\u001B[0m\u001B[0;34m\u001B[0m\u001B[0m\n\u001B[1;32m    145\u001B[0m         \u001B[0;32mfor\u001B[0m \u001B[0melem\u001B[0m\u001B[0;34m,\u001B[0m \u001B[0mnodes\u001B[0m \u001B[0;32min\u001B[0m \u001B[0mtree\u001B[0m\u001B[0;34m.\u001B[0m\u001B[0mitems\u001B[0m\u001B[0;34m(\u001B[0m\u001B[0;34m)\u001B[0m\u001B[0;34m:\u001B[0m\u001B[0;34m\u001B[0m\u001B[0;34m\u001B[0m\u001B[0m\n\u001B[0;32m--> 146\u001B[0;31m             \u001B[0msupport\u001B[0m \u001B[0;34m=\u001B[0m \u001B[0msum\u001B[0m\u001B[0;34m(\u001B[0m\u001B[0mn\u001B[0m\u001B[0;34m.\u001B[0m\u001B[0mcount\u001B[0m \u001B[0;32mfor\u001B[0m \u001B[0mn\u001B[0m \u001B[0;32min\u001B[0m \u001B[0mnodes\u001B[0m\u001B[0;34m)\u001B[0m\u001B[0;34m\u001B[0m\u001B[0;34m\u001B[0m\u001B[0m\n\u001B[0m\u001B[1;32m    147\u001B[0m             \u001B[0;32mif\u001B[0m \u001B[0msupport\u001B[0m \u001B[0;34m>=\u001B[0m \u001B[0mminimum_support\u001B[0m \u001B[0;32mand\u001B[0m \u001B[0melem\u001B[0m \u001B[0;32mnot\u001B[0m \u001B[0;32min\u001B[0m \u001B[0msuffix\u001B[0m\u001B[0;34m:\u001B[0m\u001B[0;34m\u001B[0m\u001B[0;34m\u001B[0m\u001B[0m\n\u001B[1;32m    148\u001B[0m                 \u001B[0mfound_set\u001B[0m \u001B[0;34m=\u001B[0m \u001B[0;34m[\u001B[0m\u001B[0melem\u001B[0m\u001B[0;34m]\u001B[0m \u001B[0;34m+\u001B[0m \u001B[0msuffix\u001B[0m\u001B[0;34m\u001B[0m\u001B[0;34m\u001B[0m\u001B[0m\n",
      "\u001B[0;31mTypeError\u001B[0m: unsupported operand type(s) for +: 'int' and 'str'"
     ]
    }
   ],
   "source": [
    "import re\n",
    "\n",
    "data = []\n",
    "ignore = [\n",
    "    \n",
    "          'и', \"по\", \"на\", \"в\", \"с\", \"что\", '', 'к', \n",
    "          \"мы\", \"у\", \"но\", \"как\", \"-\", \"а\", \"очень\", \n",
    "          \"не\", \"все\", \"это\", \"за\", \"я\", \"она\", \"он\",\n",
    "          \"было\", \"нам\", \"нас\", \"бы\", \"был\", \"были\", \"ней\"  \n",
    "        \n",
    "         ]\n",
    "for index, row in df.iterrows():\n",
    "    cur = [row.discipline, row.mark, row.tutorname]\n",
    "    for word in re.split('[ .,!?]', row.text):\n",
    "        word_to_add = word.strip(' .,!?').lower()\n",
    "        if word_to_add not in ignore:\n",
    "            cur.append(word_to_add)\n",
    "    data.append(cur)\n",
    "FP.fpgrowth(data, 3)"
   ]
  },
  {
   "cell_type": "code",
   "execution_count": null,
   "metadata": {},
   "outputs": [],
   "source": []
  }
 ],
 "metadata": {
  "kernelspec": {
   "display_name": "Python 3",
   "language": "python",
   "name": "python3"
  },
  "language_info": {
   "codemirror_mode": {
    "name": "ipython",
    "version": 3
   },
   "file_extension": ".py",
   "mimetype": "text/x-python",
   "name": "python",
   "nbconvert_exporter": "python",
   "pygments_lexer": "ipython3",
   "version": "3.7.3"
  }
 },
 "nbformat": 4,
 "nbformat_minor": 4
}